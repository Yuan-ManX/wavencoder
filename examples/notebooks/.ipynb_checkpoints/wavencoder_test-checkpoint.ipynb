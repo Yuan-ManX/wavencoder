{
 "cells": [
  {
   "cell_type": "code",
   "execution_count": 5,
   "metadata": {
    "tags": []
   },
   "outputs": [
    {
     "output_type": "stream",
     "name": "stdout",
     "text": "torch.Size([1, 4800064])\n"
    }
   ],
   "source": [
    "from wavencoder.transforms.noise import AdditiveNoise\n",
    "import torchaudio\n",
    "\n",
    "add = AdditiveNoise('/home/shangeth/Downloads/Dataset/DLIVING_16k/DLIVING')\n",
    "audio, _ = torchaudio.load('/home/shangeth/Downloads/Dataset/TIMIT/Wav_Data/TRAIN/FAEM0_SA2.WAV')\n",
    "\n",
    "noisy = add(audio)"
   ]
  },
  {
   "cell_type": "code",
   "execution_count": 6,
   "metadata": {},
   "outputs": [
    {
     "output_type": "execute_result",
     "data": {
      "text/plain": "(torch.Size([1, 4800074]), torch.Size([1, 4800074]))"
     },
     "metadata": {},
     "execution_count": 6
    }
   ],
   "source": [
    "audio.shape, noisy.shape"
   ]
  },
  {
   "cell_type": "code",
   "execution_count": 7,
   "metadata": {},
   "outputs": [],
   "source": [
    "import torch\n",
    "\n",
    "x = torch.randn(1, 16000)"
   ]
  },
  {
   "cell_type": "code",
   "execution_count": null,
   "metadata": {},
   "outputs": [],
   "source": []
  }
 ],
 "metadata": {
  "language_info": {
   "codemirror_mode": {
    "name": "ipython",
    "version": 3
   },
   "file_extension": ".py",
   "mimetype": "text/x-python",
   "name": "python",
   "nbconvert_exporter": "python",
   "pygments_lexer": "ipython3",
   "version": 3
  },
  "orig_nbformat": 2,
  "kernelspec": {
   "name": "python_defaultSpec_1603779189412",
   "display_name": "Python 3.7.6 64-bit ('wevenv': venv)"
  }
 },
 "nbformat": 4,
 "nbformat_minor": 2
}