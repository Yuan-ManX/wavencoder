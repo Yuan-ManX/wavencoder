{
 "cells": [
  {
   "cell_type": "markdown",
   "metadata": {
    "colab_type": "text",
    "id": "view-in-github"
   },
   "source": [
    "<a href=\"https://colab.research.google.com/github/shangeth/wavencoder/blob/master/examples/notebooks/wavencoder_demo_1.ipynb\" target=\"_parent\"><img src=\"https://colab.research.google.com/assets/colab-badge.svg\" alt=\"Open In Colab\"/></a>"
   ]
  },
  {
   "cell_type": "markdown",
   "metadata": {
    "id": "I-G7KgWN7-Rg"
   },
   "source": [
    "# Demo Notebook\n",
    "## [wavencoder](https://pypi.org/project/wavencoder/) Models\n",
    "\n",
    "---\n",
    "\n",
    "\n",
    "Author : Shangeth Rajaa\n",
    "\n",
    "![Twitter Follow](https://img.shields.io/twitter/follow/shangethr?style=social)\n",
    "\n",
    "[GitHub](https://github.com/shangeth) [LinkedIn](https://www.linkedin.com/in/shangeth/)"
   ]
  },
  {
   "cell_type": "markdown",
   "metadata": {
    "id": "QQNUTJPqrwce"
   },
   "source": [
    "# Installing wavencoder"
   ]
  },
  {
   "cell_type": "code",
   "execution_count": null,
   "metadata": {
    "colab": {
     "base_uri": "https://localhost:8080/",
     "height": 544
    },
    "id": "maYGiKXH8Brj",
    "outputId": "9751b61d-d023-45ed-80b7-7e822690cca8"
   },
   "outputs": [
    {
     "name": "stdout",
     "output_type": "stream",
     "text": [
      "Collecting fairseq\n",
      "\u001b[?25l  Downloading https://files.pythonhosted.org/packages/67/bf/de299e082e7af010d35162cb9a185dc6c17db71624590f2f379aeb2519ff/fairseq-0.9.0.tar.gz (306kB)\n",
      "\u001b[K     |████████████████████████████████| 307kB 4.7MB/s \n",
      "\u001b[?25hRequirement already satisfied: cffi in /usr/local/lib/python3.6/dist-packages (from fairseq) (1.14.3)\n",
      "Requirement already satisfied: cython in /usr/local/lib/python3.6/dist-packages (from fairseq) (0.29.21)\n",
      "Requirement already satisfied: numpy in /usr/local/lib/python3.6/dist-packages (from fairseq) (1.18.5)\n",
      "Requirement already satisfied: regex in /usr/local/lib/python3.6/dist-packages (from fairseq) (2019.12.20)\n",
      "Collecting sacrebleu\n",
      "\u001b[?25l  Downloading https://files.pythonhosted.org/packages/a3/c4/8e948f601a4f9609e8b2b58f31966cb13cf17b940b82aa3e767f01c42c52/sacrebleu-1.4.14-py3-none-any.whl (64kB)\n",
      "\u001b[K     |████████████████████████████████| 71kB 7.4MB/s \n",
      "\u001b[?25hRequirement already satisfied: torch in /usr/local/lib/python3.6/dist-packages (from fairseq) (1.6.0+cu101)\n",
      "Requirement already satisfied: tqdm in /usr/local/lib/python3.6/dist-packages (from fairseq) (4.41.1)\n",
      "Requirement already satisfied: pycparser in /usr/local/lib/python3.6/dist-packages (from cffi->fairseq) (2.20)\n",
      "Collecting portalocker\n",
      "  Downloading https://files.pythonhosted.org/packages/89/a6/3814b7107e0788040870e8825eebf214d72166adf656ba7d4bf14759a06a/portalocker-2.0.0-py2.py3-none-any.whl\n",
      "Requirement already satisfied: future in /usr/local/lib/python3.6/dist-packages (from torch->fairseq) (0.16.0)\n",
      "Building wheels for collected packages: fairseq\n",
      "  Building wheel for fairseq (setup.py) ... \u001b[?25l\u001b[?25hdone\n",
      "  Created wheel for fairseq: filename=fairseq-0.9.0-cp36-cp36m-linux_x86_64.whl size=2046423 sha256=f68a8ad6a5ce93540273cc72dd2d81ba74683c60a9aeb5aad1b93c187a2bb6e5\n",
      "  Stored in directory: /root/.cache/pip/wheels/37/3e/1b/0fa30695dcba41e4b0088067fa40f3328d1e8ee78c22cd4766\n",
      "Successfully built fairseq\n",
      "Installing collected packages: portalocker, sacrebleu, fairseq\n",
      "Successfully installed fairseq-0.9.0 portalocker-2.0.0 sacrebleu-1.4.14\n",
      "Collecting wavencoder\n",
      "  Downloading https://files.pythonhosted.org/packages/d1/85/4c3d2938edcc99229691f346946c4a6c1fbed74f1f83528ec420363ae8de/wavencoder-0.0.3-py3-none-any.whl\n",
      "Requirement already satisfied: tqdm in /usr/local/lib/python3.6/dist-packages (from wavencoder) (4.41.1)\n",
      "Requirement already satisfied: torch in /usr/local/lib/python3.6/dist-packages (from wavencoder) (1.6.0+cu101)\n",
      "Requirement already satisfied: numpy in /usr/local/lib/python3.6/dist-packages (from torch->wavencoder) (1.18.5)\n",
      "Requirement already satisfied: future in /usr/local/lib/python3.6/dist-packages (from torch->wavencoder) (0.16.0)\n",
      "Installing collected packages: wavencoder\n",
      "Successfully installed wavencoder-0.0.3\n"
     ]
    }
   ],
   "source": [
    "!pip install fairseq\n",
    "!pip install wavencoder"
   ]
  },
  {
   "cell_type": "code",
   "execution_count": 1,
   "metadata": {},
   "outputs": [
    {
     "name": "stderr",
     "output_type": "stream",
     "text": [
      "C:\\Users\\shang\\Anaconda3\\envs\\we_env\\lib\\site-packages\\torchaudio\\extension\\extension.py:14: UserWarning: torchaudio C++ extension is not available.\n",
      "  warnings.warn('torchaudio C++ extension is not available.')\n",
      "C:\\Users\\shang\\Anaconda3\\envs\\we_env\\lib\\site-packages\\torchaudio\\backend\\utils.py:63: UserWarning: The interface of \"soundfile\" backend is planned to change in 0.8.0 to match that of \"sox_io\" backend and the current interface will be removed in 0.9.0. To use the new interface, do `torchaudio.USE_SOUNDFILE_LEGACY_INTERFACE = False` before setting the backend to \"soundfile\". Please refer to https://github.com/pytorch/audio/issues/903 for the detail.\n",
      "  warnings.warn(\n"
     ]
    }
   ],
   "source": [
    "import sys\n",
    "sys.path.append(\"../../\")\n",
    "\n",
    "import torchaudio\n",
    "torchaudio.USE_SOUNDFILE_LEGACY_INTERFACE = False\n",
    "torchaudio.set_audio_backend(\"soundfile\")"
   ]
  },
  {
   "cell_type": "markdown",
   "metadata": {
    "id": "D65K-PXe8F2y"
   },
   "source": [
    "# Wav2Vec pretrained feature extractor"
   ]
  },
  {
   "cell_type": "code",
   "execution_count": 2,
   "metadata": {
    "colab": {
     "base_uri": "https://localhost:8080/",
     "height": 68
    },
    "id": "uFrj8bqNLvaZ",
    "outputId": "f4b4f19c-147e-4f5f-e157-382b1a2e51db"
   },
   "outputs": [
    {
     "data": {
      "text/plain": [
       "torch.Size([1, 512, 98])"
      ]
     },
     "execution_count": 2,
     "metadata": {},
     "output_type": "execute_result"
    }
   ],
   "source": [
    "import torch\n",
    "import wavencoder\n",
    "\n",
    "x = torch.randn(1, 16000) # [1, 16000]\n",
    "encoder = wavencoder.models.Wav2Vec(pretrained=False)\n",
    "z = encoder(x) # [1, 512, 98]\n",
    "z.shape"
   ]
  },
  {
   "cell_type": "markdown",
   "metadata": {
    "id": "KOfm7Fx65MiI"
   },
   "source": [
    "# SincNet pretrained feature extractor"
   ]
  },
  {
   "cell_type": "code",
   "execution_count": 3,
   "metadata": {
    "colab": {
     "base_uri": "https://localhost:8080/",
     "height": 34
    },
    "id": "tN-8OHIJ5DBK",
    "outputId": "4f94b919-32c2-4733-b1fe-e682e09117ed"
   },
   "outputs": [
    {
     "name": "stdout",
     "output_type": "stream",
     "text": [
      "torch.Size([1, 2048])\n"
     ]
    }
   ],
   "source": [
    "from wavencoder.models import SincNet\n",
    "encoder = SincNet(pretrained=False).eval()\n",
    "x = torch.randn(1, 3200) \n",
    "z = encoder(x)\n",
    "print(z.shape)"
   ]
  },
  {
   "cell_type": "markdown",
   "metadata": {},
   "source": [
    "# RawNet"
   ]
  },
  {
   "cell_type": "code",
   "execution_count": 4,
   "metadata": {},
   "outputs": [
    {
     "data": {
      "text/plain": [
       "torch.Size([1, 1024])"
      ]
     },
     "execution_count": 4,
     "metadata": {},
     "output_type": "execute_result"
    }
   ],
   "source": [
    "import torch\n",
    "import wavencoder\n",
    "\n",
    "x = torch.randn(1, 59049) # [1, 16000]\n",
    "rawnet_encoder = wavencoder.models.RawNet2Model(pretrained=False, return_code=True, class_dim=100)\n",
    "z = rawnet_encoder(x) # [1, 1024]\n",
    "z.shape"
   ]
  },
  {
   "cell_type": "markdown",
   "metadata": {
    "id": "tQ_VO77V8eWX"
   },
   "source": [
    "# Audio Classifier\n",
    "- wav2vec encoder `[1, 16000] -> [1, 512, 98]`\n",
    "- mean of features along time axis `[1, 512, 98] -> [1, 512]`\n",
    "- ANN Classifier `[1, 512] -> [1, 2]`\n"
   ]
  },
  {
   "cell_type": "code",
   "execution_count": 5,
   "metadata": {
    "colab": {
     "base_uri": "https://localhost:8080/",
     "height": 34
    },
    "id": "coQCRfCyTok-",
    "outputId": "51784263-d54d-4d32-bb41-60423b563c0d"
   },
   "outputs": [
    {
     "name": "stdout",
     "output_type": "stream",
     "text": [
      "torch.Size([1, 2])\n"
     ]
    }
   ],
   "source": [
    "import torch\n",
    "import torch.nn as nn\n",
    "import wavencoder\n",
    "\n",
    "class AudioClassifier(nn.Module):\n",
    "    def __init__(self):\n",
    "        super().__init__()\n",
    "        self.encoder = wavencoder.models.Wav2Vec(pretrained=False)\n",
    "        self.classifier = nn.Linear(512, 2)\n",
    "\n",
    "    def forward(self, x):\n",
    "        z = self.encoder(x)\n",
    "        z = torch.mean(z, dim=2)\n",
    "        out = self.classifier(z)\n",
    "        return out\n",
    "\n",
    "model = AudioClassifier()\n",
    "x = torch.randn(1, 16000)\n",
    "y_hat = model(x)\n",
    "print(y_hat.shape)"
   ]
  },
  {
   "cell_type": "markdown",
   "metadata": {
    "id": "rJbxwo465iqJ"
   },
   "source": [
    "- SincNet encoder `[1, 3200] -> [1, 6420]`\n",
    "- ANN Classifier `[1, 6420] -> [1, 512]`"
   ]
  },
  {
   "cell_type": "code",
   "execution_count": 6,
   "metadata": {
    "colab": {
     "base_uri": "https://localhost:8080/",
     "height": 34
    },
    "id": "PFs_KthP5gRM",
    "outputId": "b1f08bdd-0ce2-4edc-fe60-84d3784984a9"
   },
   "outputs": [
    {
     "name": "stdout",
     "output_type": "stream",
     "text": [
      "torch.Size([2, 2])\n"
     ]
    }
   ],
   "source": [
    "import torch\n",
    "import torch.nn as nn\n",
    "import wavencoder\n",
    "\n",
    "class SincNetAudioClassifier(nn.Module):\n",
    "    def __init__(self):\n",
    "        super().__init__()\n",
    "        self.encoder = SincNet(pretrained=False)\n",
    "        self.classifier = nn.Linear(2048, 2)\n",
    "\n",
    "    def forward(self, x):\n",
    "        z = self.encoder(x)\n",
    "        out = self.classifier(z)\n",
    "        return out\n",
    "\n",
    "model = SincNetAudioClassifier()\n",
    "x = torch.randn(2, 3200)\n",
    "y_hat = model(x)\n",
    "print(y_hat.shape)"
   ]
  },
  {
   "cell_type": "markdown",
   "metadata": {
    "id": "TVtPcmFHcARK"
   },
   "source": [
    "# LSTM Attention Classifier"
   ]
  },
  {
   "cell_type": "code",
   "execution_count": 2,
   "metadata": {
    "colab": {
     "base_uri": "https://localhost:8080/",
     "height": 34
    },
    "id": "FSIGxg0acCBQ",
    "outputId": "95974d0b-8390-4122-eee1-ceee680ad9c0"
   },
   "outputs": [
    {
     "name": "stdout",
     "output_type": "stream",
     "text": [
      "torch.Size([5, 2]) torch.Size([5, 98])\n"
     ]
    }
   ],
   "source": [
    "import torch\n",
    "import torch.nn as nn\n",
    "import wavencoder\n",
    "\n",
    "model = nn.Sequential(\n",
    "        wavencoder.models.Wav2Vec(pretrained=False),\n",
    "        wavencoder.models.LSTM_Attn_Classifier(512, 64, 2, return_attn_weights=True, attn_type='soft')\n",
    ")\n",
    "\n",
    "x = torch.randn(5, 16000)\n",
    "y_hat, attn_weights = model(x)\n",
    "\n",
    "print(y_hat.shape, attn_weights.shape)"
   ]
  },
  {
   "cell_type": "code",
   "execution_count": null,
   "metadata": {},
   "outputs": [],
   "source": []
  }
 ],
 "metadata": {
  "accelerator": "GPU",
  "colab": {
   "authorship_tag": "ABX9TyOR20XAPPb1/LZPXrIMN5gc",
   "collapsed_sections": [],
   "include_colab_link": true,
   "name": "wavencoder-demo-1.ipynb",
   "provenance": []
  },
  "kernelspec": {
   "display_name": "Python 3",
   "language": "python",
   "name": "python3"
  },
  "language_info": {
   "codemirror_mode": {
    "name": "ipython",
    "version": 3
   },
   "file_extension": ".py",
   "mimetype": "text/x-python",
   "name": "python",
   "nbconvert_exporter": "python",
   "pygments_lexer": "ipython3",
   "version": "3.8.5"
  }
 },
 "nbformat": 4,
 "nbformat_minor": 4
}
